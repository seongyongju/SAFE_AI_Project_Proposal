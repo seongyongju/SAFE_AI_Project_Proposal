{
  "nbformat": 4,
  "nbformat_minor": 0,
  "metadata": {
    "colab": {
      "private_outputs": true,
      "provenance": [],
      "include_colab_link": true
    },
    "kernelspec": {
      "name": "python3",
      "display_name": "Python 3"
    },
    "language_info": {
      "name": "python"
    }
  },
  "cells": [
    {
      "cell_type": "markdown",
      "metadata": {
        "id": "view-in-github",
        "colab_type": "text"
      },
      "source": [
        "<a href=\"https://colab.research.google.com/github/seongyongju/SAFE_AI_Project_Proposal/blob/main/Upload_CNN(Tuning_Ver)_NeurIPS.ipynb\" target=\"_parent\"><img src=\"https://colab.research.google.com/assets/colab-badge.svg\" alt=\"Open In Colab\"/></a>"
      ]
    },
    {
      "cell_type": "code",
      "execution_count": null,
      "metadata": {
        "id": "qn9p2CCAMtg7"
      },
      "outputs": [],
      "source": [
        "from google.colab import drive\n",
        "drive.mount('/content/drive')"
      ]
    },
    {
      "cell_type": "code",
      "source": [
        "import torch\n",
        "import torch.nn as nn\n",
        "import numpy as np\n",
        "from torchvision import models, transforms\n",
        "from torch.autograd import Variable\n",
        "import torch.nn.functional as F\n",
        "\n",
        "import matplotlib.pyplot as plt\n",
        "import cv2\n",
        "from google.colab import files\n",
        "\n",
        "!pip install pdf2image\n",
        "!apt-get install -y poppler-utils\n",
        "from pdf2image import convert_from_path\n",
        "from PIL import Image"
      ],
      "metadata": {
        "id": "jdCmkPXnM2wW"
      },
      "execution_count": null,
      "outputs": []
    },
    {
      "cell_type": "code",
      "source": [
        "class CNN_FT(nn.Module):\n",
        "    def __init__(self, p_dropout=0.3):\n",
        "        super().__init__()\n",
        "\n",
        "        self.conv1 = nn.Conv2d(3, 16, 3, padding=1)\n",
        "        self.bn1   = nn.BatchNorm2d(16)\n",
        "        self.conv2 = nn.Conv2d(16, 32, 3, padding=1)\n",
        "        self.bn2   = nn.BatchNorm2d(32)\n",
        "\n",
        "        self.flat  = nn.Flatten()\n",
        "        self.fc1   = nn.Linear(32*56*56, 128)\n",
        "        self.dp1   = nn.Dropout(p_dropout)\n",
        "        self.fc2   = nn.Linear(128, 2)\n",
        "\n",
        "        self.apply(self._init_weights)\n",
        "\n",
        "    def _init_weights(self, m):\n",
        "        if isinstance(m, nn.Conv2d) or isinstance(m, nn.Linear):\n",
        "            nn.init.kaiming_normal_(m.weight, nonlinearity='relu')\n",
        "            if m.bias is not None:\n",
        "                nn.init.constant_(m.bias, 0)\n",
        "\n",
        "    def forward(self, x):\n",
        "        x = F.relu(self.bn1(self.conv1(x)))\n",
        "        x = F.max_pool2d(x, 2)\n",
        "        x = F.relu(self.bn2(self.conv2(x)))\n",
        "        x = F.max_pool2d(x, 2)\n",
        "\n",
        "        x = self.flat(x)\n",
        "        x = F.relu(self.fc1(x))\n",
        "        x = self.dp1(x)\n",
        "        x = self.fc2(x)\n",
        "        return x"
      ],
      "metadata": {
        "id": "qF76XnmUM9Yn"
      },
      "execution_count": null,
      "outputs": []
    },
    {
      "cell_type": "code",
      "source": [
        "def paper_to_image(pdf_file_name: str) -> str:\n",
        "    images = convert_from_path(pdf_file_name, 200, fmt='jpg')\n",
        "    num_page = len(images)\n",
        "\n",
        "    if num_page < 7:\n",
        "        raise Exception('최소 7페이지 이상')\n",
        "\n",
        "    new_im = Image.new('RGB', (images[0].width * 4, images[0].height * 2), (255, 255, 255))\n",
        "\n",
        "    for i in range(4):\n",
        "        new_im.paste(images[i], (images[0].width * i, 0))\n",
        "\n",
        "    for i in range(4, 8):\n",
        "        new_im.paste(images[i], (images[0].width * (i - 4), images[0].height))\n",
        "\n",
        "    img_file_name = pdf_file_name[:-4] + '.jpg'\n",
        "    new_im = new_im.resize((3400, 2200))\n",
        "    new_im.save(img_file_name)\n",
        "\n",
        "    img = cv2.imread(img_file_name)\n",
        "    img = cv2.resize(img, (680, 440))\n",
        "    img[0:15, 0:150] = 255\n",
        "    cv2.imwrite(img_file_name, img)\n",
        "\n",
        "    return img_file_name"
      ],
      "metadata": {
        "id": "NWsYOBOlNA5_"
      },
      "execution_count": null,
      "outputs": []
    },
    {
      "cell_type": "code",
      "source": [
        "device = torch.device('cuda' if torch.cuda.is_available() else 'cpu')\n",
        "model = CNN_FT().to(device)\n",
        "model.load_state_dict(torch.load(\n",
        "    '/content/drive/MyDrive/SAFE_AI(Project_proposal)/Models/NeurIPS_CNN_model_Tuning_VER.pt',\n",
        "    map_location=device))\n",
        "model.eval()"
      ],
      "metadata": {
        "id": "_oSuxBdpGK76"
      },
      "execution_count": null,
      "outputs": []
    },
    {
      "cell_type": "code",
      "source": [
        "preprocess = transforms.Compose([\n",
        "    transforms.Resize((224,224)),\n",
        "    transforms.ToTensor(),\n",
        "    transforms.Normalize([0.485,0.456,0.406],[0.229,0.224,0.225])\n",
        "])\n",
        "\n",
        "print(\"PDF 파일을 업로드하세요.\")\n",
        "uploaded = files.upload()\n",
        "for fname in uploaded.keys():\n",
        "    print(f\"  • 업로드됨: {fname}\")\n",
        "    jpg = paper_to_image(fname)\n",
        "    img = Image.open(jpg).convert('RGB')\n",
        "    inp = preprocess(img).unsqueeze(0).to(device)\n",
        "    with torch.no_grad():\n",
        "        out = model(inp)\n",
        "        prob = F.softmax(out,1)[0]\n",
        "    print(f\"  → Accepted: {prob[0].item()*100:.2f}%,  Rejected: {prob[1].item()*100:.2f}%\")"
      ],
      "metadata": {
        "id": "U8RgKr-sGic6"
      },
      "execution_count": null,
      "outputs": []
    }
  ]
}